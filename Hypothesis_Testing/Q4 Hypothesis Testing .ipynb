{
  "cells": [
    {
      "metadata": {
        "trusted": true
      },
      "cell_type": "code",
      "source": "import pandas as pd\nfrom scipy import stats as stats\nfrom scipy.stats import chi2_contingency\nfrom scipy.stats import chi2",
      "execution_count": 2,
      "outputs": []
    },
    {
      "metadata": {
        "trusted": true
      },
      "cell_type": "code",
      "source": "custom= pd.read_csv('C:/Users/Admin/Downloads/CustomerOrderForm.csv')",
      "execution_count": 5,
      "outputs": []
    },
    {
      "metadata": {
        "trusted": true
      },
      "cell_type": "code",
      "source": "custom.head()",
      "execution_count": 22,
      "outputs": [
        {
          "data": {
            "text/html": "<div>\n<style scoped>\n    .dataframe tbody tr th:only-of-type {\n        vertical-align: middle;\n    }\n\n    .dataframe tbody tr th {\n        vertical-align: top;\n    }\n\n    .dataframe thead th {\n        text-align: right;\n    }\n</style>\n<table border=\"1\" class=\"dataframe\">\n  <thead>\n    <tr style=\"text-align: right;\">\n      <th></th>\n      <th>Phillippines</th>\n      <th>Indonesia</th>\n      <th>Malta</th>\n      <th>India</th>\n    </tr>\n  </thead>\n  <tbody>\n    <tr>\n      <th>0</th>\n      <td>Error Free</td>\n      <td>Error Free</td>\n      <td>Defective</td>\n      <td>Error Free</td>\n    </tr>\n    <tr>\n      <th>1</th>\n      <td>Error Free</td>\n      <td>Error Free</td>\n      <td>Error Free</td>\n      <td>Defective</td>\n    </tr>\n    <tr>\n      <th>2</th>\n      <td>Error Free</td>\n      <td>Defective</td>\n      <td>Defective</td>\n      <td>Error Free</td>\n    </tr>\n    <tr>\n      <th>3</th>\n      <td>Error Free</td>\n      <td>Error Free</td>\n      <td>Error Free</td>\n      <td>Error Free</td>\n    </tr>\n    <tr>\n      <th>4</th>\n      <td>Error Free</td>\n      <td>Error Free</td>\n      <td>Defective</td>\n      <td>Error Free</td>\n    </tr>\n  </tbody>\n</table>\n</div>",
            "text/plain": "  Phillippines   Indonesia       Malta       India\n0   Error Free  Error Free   Defective  Error Free\n1   Error Free  Error Free  Error Free   Defective\n2   Error Free   Defective   Defective  Error Free\n3   Error Free  Error Free  Error Free  Error Free\n4   Error Free  Error Free   Defective  Error Free"
          },
          "execution_count": 22,
          "metadata": {},
          "output_type": "execute_result"
        }
      ]
    },
    {
      "metadata": {
        "trusted": true
      },
      "cell_type": "code",
      "source": "print(custom['Phillippines'].value_counts(),custom['Indonesia'].value_counts(),custom['Malta'].value_counts(),custom['India'].value_counts())",
      "execution_count": 28,
      "outputs": [
        {
          "name": "stdout",
          "output_type": "stream",
          "text": "Error Free    271\nDefective      29\nName: Phillippines, dtype: int64 Error Free    267\nDefective      33\nName: Indonesia, dtype: int64 Error Free    269\nDefective      31\nName: Malta, dtype: int64 Error Free    280\nDefective      20\nName: India, dtype: int64\n"
        }
      ]
    },
    {
      "metadata": {
        "trusted": true
      },
      "cell_type": "code",
      "source": "observed=([[271,267,269,280],[29,33,31,20]])",
      "execution_count": 32,
      "outputs": []
    },
    {
      "metadata": {
        "trusted": true
      },
      "cell_type": "code",
      "source": "observed",
      "execution_count": 42,
      "outputs": [
        {
          "data": {
            "text/plain": "[[271, 267, 269, 280], [29, 33, 31, 20]]"
          },
          "execution_count": 42,
          "metadata": {},
          "output_type": "execute_result"
        }
      ]
    },
    {
      "metadata": {
        "trusted": true
      },
      "cell_type": "code",
      "source": "stat, p, dof, expected = chi2_contingency([[271,267,269,280],[29,33,31,20]])",
      "execution_count": 29,
      "outputs": []
    },
    {
      "metadata": {
        "trusted": true
      },
      "cell_type": "code",
      "source": "stat",
      "execution_count": 35,
      "outputs": [
        {
          "data": {
            "text/plain": "3.858960685820355"
          },
          "execution_count": 35,
          "metadata": {},
          "output_type": "execute_result"
        }
      ]
    },
    {
      "metadata": {
        "trusted": true
      },
      "cell_type": "code",
      "source": "p",
      "execution_count": 36,
      "outputs": [
        {
          "data": {
            "text/plain": "0.2771020991233135"
          },
          "execution_count": 36,
          "metadata": {},
          "output_type": "execute_result"
        }
      ]
    },
    {
      "metadata": {
        "trusted": true
      },
      "cell_type": "code",
      "source": "print('dof=%d' % dof)\nprint(expected)",
      "execution_count": 43,
      "outputs": [
        {
          "name": "stdout",
          "output_type": "stream",
          "text": "dof=3\n[[271.75 271.75 271.75 271.75]\n [ 28.25  28.25  28.25  28.25]]\n"
        }
      ]
    },
    {
      "metadata": {
        "trusted": true
      },
      "cell_type": "code",
      "source": "alpha = 0.05\nprob=1-alpha\ncritical = chi2.ppf(prob, dof)\nprint('probability=%.3f, critical=%.3f, stat=%.3f' % (prob, critical, stat))\nif abs(stat) >= critical:\n\tprint('Dependent (reject H0),variables are related')\nelse:\n\tprint('Independent (fail to reject H0), variables are not related')",
      "execution_count": 46,
      "outputs": [
        {
          "name": "stdout",
          "output_type": "stream",
          "text": "probability=0.950, critical=7.815, stat=3.859\nIndependent (fail to reject H0), variables are not related\n"
        }
      ]
    },
    {
      "metadata": {
        "trusted": true
      },
      "cell_type": "code",
      "source": "print('significance=%.3f, p=%.3f' % (alpha, p))\nif p <= alpha:\n\tprint('Dependent (reject H0)')\nelse:\n\tprint('Independent (fail to reject H0)')",
      "execution_count": 47,
      "outputs": [
        {
          "name": "stdout",
          "output_type": "stream",
          "text": "significance=0.050, p=0.277\nIndependent (fail to reject H0)\n"
        }
      ]
    },
    {
      "metadata": {
        "trusted": true
      },
      "cell_type": "code",
      "source": "",
      "execution_count": null,
      "outputs": []
    }
  ],
  "metadata": {
    "kernelspec": {
      "name": "python3",
      "display_name": "Python 3",
      "language": "python"
    },
    "language_info": {
      "name": "python",
      "version": "3.8.5",
      "mimetype": "text/x-python",
      "codemirror_mode": {
        "name": "ipython",
        "version": 3
      },
      "pygments_lexer": "ipython3",
      "nbconvert_exporter": "python",
      "file_extension": ".py"
    },
    "gist": {
      "id": "",
      "data": {
        "description": "     TeleCall uses 4 centers around the globe to process customer order forms. They audit a certain %  of the customer order forms. Any error in order form renders it defective and has to be reworked before processing.  The manager wants to check whether the defective %  varies by centre. Please analyze the data at 5% significance level and help the manager draw appropriate inferences",
        "public": true
      }
    }
  },
  "nbformat": 4,
  "nbformat_minor": 4
}