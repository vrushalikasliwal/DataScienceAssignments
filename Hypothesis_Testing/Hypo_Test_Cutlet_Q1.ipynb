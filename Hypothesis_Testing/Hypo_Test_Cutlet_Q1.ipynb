{
 "cells": [
  {
   "cell_type": "markdown",
   "id": "0ab59586",
   "metadata": {
    "ExecuteTime": {
     "end_time": "2023-01-22T20:42:23.479651Z",
     "start_time": "2023-01-22T20:42:23.455656Z"
    }
   },
   "source": [
    "A F&B manager wants to determine whether there is any significant difference in the diameter \n",
    "of the cutlet between two units. A randomly selected sample of cutlets was collected from both \n",
    "units and measured? Analyze the data and draw inferences at 5% significance level. \n",
    "Please state the assumptions and tests that you carried out to check validity of the assumptions.\n",
    "      \n",
    "Minitab File : Cutlets.mtw\n"
   ]
  },
  {
   "cell_type": "code",
   "execution_count": 2,
   "id": "c7d10401",
   "metadata": {
    "ExecuteTime": {
     "end_time": "2023-01-22T20:25:22.018686Z",
     "start_time": "2023-01-22T20:25:21.994690Z"
    }
   },
   "outputs": [],
   "source": [
    "import pandas as pd\n",
    "import scipy.stats as st"
   ]
  },
  {
   "cell_type": "code",
   "execution_count": 20,
   "id": "23212788",
   "metadata": {
    "ExecuteTime": {
     "end_time": "2023-01-22T20:37:13.630376Z",
     "start_time": "2023-01-22T20:37:13.614378Z"
    }
   },
   "outputs": [],
   "source": [
    "df=pd.read_csv('Cutlets.csv')"
   ]
  },
  {
   "cell_type": "code",
   "execution_count": 19,
   "id": "86ac0d97",
   "metadata": {
    "ExecuteTime": {
     "end_time": "2023-01-22T20:34:57.116406Z",
     "start_time": "2023-01-22T20:34:57.092412Z"
    }
   },
   "outputs": [
    {
     "data": {
      "text/plain": [
       "Ttest_indResult(statistic=0.7228688704678063, pvalue=0.4722394724599501)"
      ]
     },
     "execution_count": 19,
     "metadata": {},
     "output_type": "execute_result"
    }
   ],
   "source": [
    "st.ttest_ind(df['Unit A'],df['Unit B'])"
   ]
  },
  {
   "cell_type": "code",
   "execution_count": 12,
   "id": "1d6a9ab0",
   "metadata": {
    "ExecuteTime": {
     "end_time": "2023-01-22T20:32:30.961813Z",
     "start_time": "2023-01-22T20:32:30.937842Z"
    }
   },
   "outputs": [
    {
     "name": "stdout",
     "output_type": "stream",
     "text": [
      "0.7228688704678063\n",
      "0.4722394724599501\n"
     ]
    }
   ],
   "source": [
    "stats,pVal=st.ttest_ind(df['Unit A'],df['Unit B'])\n",
    "print(stats)\n",
    "print(pVal)"
   ]
  },
  {
   "cell_type": "code",
   "execution_count": 17,
   "id": "95dac2e6",
   "metadata": {
    "ExecuteTime": {
     "end_time": "2023-01-22T20:34:11.979281Z",
     "start_time": "2023-01-22T20:34:11.955270Z"
    }
   },
   "outputs": [],
   "source": [
    "pVal=st.ttest_ind(df['Unit A'],df['Unit B'])"
   ]
  },
  {
   "cell_type": "code",
   "execution_count": 18,
   "id": "c8685770",
   "metadata": {
    "ExecuteTime": {
     "end_time": "2023-01-22T20:34:14.594024Z",
     "start_time": "2023-01-22T20:34:14.569068Z"
    }
   },
   "outputs": [
    {
     "data": {
      "text/plain": [
       "0.4722394724599501"
      ]
     },
     "execution_count": 18,
     "metadata": {},
     "output_type": "execute_result"
    }
   ],
   "source": [
    "pVal[1]"
   ]
  },
  {
   "cell_type": "code",
   "execution_count": null,
   "id": "95cb79b6",
   "metadata": {},
   "outputs": [],
   "source": []
  }
 ],
 "metadata": {
  "kernelspec": {
   "display_name": "Python 3 (ipykernel)",
   "language": "python",
   "name": "python3"
  },
  "language_info": {
   "codemirror_mode": {
    "name": "ipython",
    "version": 3
   },
   "file_extension": ".py",
   "mimetype": "text/x-python",
   "name": "python",
   "nbconvert_exporter": "python",
   "pygments_lexer": "ipython3",
   "version": "3.9.13"
  }
 },
 "nbformat": 4,
 "nbformat_minor": 5
}
