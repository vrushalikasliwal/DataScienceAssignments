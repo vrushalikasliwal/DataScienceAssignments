{
 "cells": [
  {
   "cell_type": "markdown",
   "id": "c4fd08a6",
   "metadata": {},
   "source": [
    "Sales of products in four different regions is tabulated for males and females. Find if male-female buyer rations are similar across regions.\n",
    "\n",
    "BuyerRatio.csv"
   ]
  },
  {
   "cell_type": "code",
   "execution_count": 21,
   "id": "16ca3473",
   "metadata": {
    "ExecuteTime": {
     "end_time": "2023-03-09T14:18:50.197159Z",
     "start_time": "2023-03-09T14:18:50.174196Z"
    }
   },
   "outputs": [],
   "source": [
    "import pandas as pd\n",
    "import numpy as np\n",
    "import matplotlib.pyplot as plt\n",
    "import seaborn as sns\n",
    "import warnings\n",
    "import statsmodels.api as sm\n",
    "import scipy.stats as st\n",
    "#from PIL import ImageGrab\n",
    "\n",
    "\n",
    "%matplotlib inline\n",
    "warnings.filterwarnings('ignore')"
   ]
  },
  {
   "cell_type": "code",
   "execution_count": 16,
   "id": "1e6b7632",
   "metadata": {
    "ExecuteTime": {
     "end_time": "2023-03-09T14:17:57.596245Z",
     "start_time": "2023-03-09T14:17:57.552354Z"
    }
   },
   "outputs": [
    {
     "data": {
      "text/html": [
       "<div>\n",
       "<style scoped>\n",
       "    .dataframe tbody tr th:only-of-type {\n",
       "        vertical-align: middle;\n",
       "    }\n",
       "\n",
       "    .dataframe tbody tr th {\n",
       "        vertical-align: top;\n",
       "    }\n",
       "\n",
       "    .dataframe thead th {\n",
       "        text-align: right;\n",
       "    }\n",
       "</style>\n",
       "<table border=\"1\" class=\"dataframe\">\n",
       "  <thead>\n",
       "    <tr style=\"text-align: right;\">\n",
       "      <th></th>\n",
       "      <th>Observed Values</th>\n",
       "      <th>East</th>\n",
       "      <th>West</th>\n",
       "      <th>North</th>\n",
       "      <th>South</th>\n",
       "    </tr>\n",
       "  </thead>\n",
       "  <tbody>\n",
       "    <tr>\n",
       "      <th>0</th>\n",
       "      <td>Males</td>\n",
       "      <td>50</td>\n",
       "      <td>142</td>\n",
       "      <td>131</td>\n",
       "      <td>70</td>\n",
       "    </tr>\n",
       "    <tr>\n",
       "      <th>1</th>\n",
       "      <td>Females</td>\n",
       "      <td>435</td>\n",
       "      <td>1523</td>\n",
       "      <td>1356</td>\n",
       "      <td>750</td>\n",
       "    </tr>\n",
       "  </tbody>\n",
       "</table>\n",
       "</div>"
      ],
      "text/plain": [
       "  Observed Values  East  West  North  South\n",
       "0           Males    50   142    131     70\n",
       "1         Females   435  1523   1356    750"
      ]
     },
     "execution_count": 16,
     "metadata": {},
     "output_type": "execute_result"
    }
   ],
   "source": [
    "df=pd.read_csv('BuyerRatio.csv')\n",
    "df.head()"
   ]
  },
  {
   "cell_type": "code",
   "execution_count": 17,
   "id": "d28a7182",
   "metadata": {
    "ExecuteTime": {
     "end_time": "2023-03-09T14:17:58.338234Z",
     "start_time": "2023-03-09T14:17:58.310834Z"
    }
   },
   "outputs": [
    {
     "data": {
      "text/html": [
       "<div>\n",
       "<style scoped>\n",
       "    .dataframe tbody tr th:only-of-type {\n",
       "        vertical-align: middle;\n",
       "    }\n",
       "\n",
       "    .dataframe tbody tr th {\n",
       "        vertical-align: top;\n",
       "    }\n",
       "\n",
       "    .dataframe thead th {\n",
       "        text-align: right;\n",
       "    }\n",
       "</style>\n",
       "<table border=\"1\" class=\"dataframe\">\n",
       "  <thead>\n",
       "    <tr style=\"text-align: right;\">\n",
       "      <th></th>\n",
       "      <th>East</th>\n",
       "      <th>West</th>\n",
       "      <th>North</th>\n",
       "      <th>South</th>\n",
       "    </tr>\n",
       "  </thead>\n",
       "  <tbody>\n",
       "    <tr>\n",
       "      <th>0</th>\n",
       "      <td>50</td>\n",
       "      <td>142</td>\n",
       "      <td>131</td>\n",
       "      <td>70</td>\n",
       "    </tr>\n",
       "    <tr>\n",
       "      <th>1</th>\n",
       "      <td>435</td>\n",
       "      <td>1523</td>\n",
       "      <td>1356</td>\n",
       "      <td>750</td>\n",
       "    </tr>\n",
       "  </tbody>\n",
       "</table>\n",
       "</div>"
      ],
      "text/plain": [
       "   East  West  North  South\n",
       "0    50   142    131     70\n",
       "1   435  1523   1356    750"
      ]
     },
     "execution_count": 17,
     "metadata": {},
     "output_type": "execute_result"
    }
   ],
   "source": [
    "dfNew=df.iloc[:,1:]\n",
    "dfNew"
   ]
  },
  {
   "cell_type": "code",
   "execution_count": 18,
   "id": "72b1c2f6",
   "metadata": {
    "ExecuteTime": {
     "end_time": "2023-03-09T14:17:59.259462Z",
     "start_time": "2023-03-09T14:17:59.243479Z"
    }
   },
   "outputs": [
    {
     "data": {
      "text/plain": [
       "array([[  50,  142,  131,   70],\n",
       "       [ 435, 1523, 1356,  750]], dtype=int64)"
      ]
     },
     "execution_count": 18,
     "metadata": {},
     "output_type": "execute_result"
    }
   ],
   "source": [
    "arr=dfNew.values\n",
    "arr"
   ]
  },
  {
   "cell_type": "code",
   "execution_count": 23,
   "id": "016233c1",
   "metadata": {
    "ExecuteTime": {
     "end_time": "2023-03-09T14:19:37.289259Z",
     "start_time": "2023-03-09T14:19:37.258873Z"
    }
   },
   "outputs": [
    {
     "name": "stdout",
     "output_type": "stream",
     "text": [
      "1.595945538661058 \n",
      " 0.6603094907091882 \n",
      " 3 \n",
      " [[  42.76531299  146.81287862  131.11756787   72.30424052]\n",
      " [ 442.23468701 1518.18712138 1355.88243213  747.69575948]]\n"
     ]
    }
   ],
   "source": [
    "stat,p,dof,exp=st.chi2_contingency(dfNew)\n",
    "print(stat,\"\\n\", p,\"\\n\", dof,\"\\n\", exp)"
   ]
  },
  {
   "cell_type": "code",
   "execution_count": 24,
   "id": "3ec3330d",
   "metadata": {
    "ExecuteTime": {
     "end_time": "2023-03-09T14:22:39.646400Z",
     "start_time": "2023-03-09T14:22:39.616247Z"
    }
   },
   "outputs": [
    {
     "data": {
      "text/plain": [
       "(1.595945538661058,\n",
       " 0.6603094907091882,\n",
       " 3,\n",
       " array([[  42.76531299,  146.81287862,  131.11756787,   72.30424052],\n",
       "        [ 442.23468701, 1518.18712138, 1355.88243213,  747.69575948]]))"
      ]
     },
     "execution_count": 24,
     "metadata": {},
     "output_type": "execute_result"
    }
   ],
   "source": [
    "st.chi2_contingency(arr)"
   ]
  },
  {
   "cell_type": "code",
   "execution_count": 31,
   "id": "fb29bc4a",
   "metadata": {
    "ExecuteTime": {
     "end_time": "2023-03-09T14:31:15.106977Z",
     "start_time": "2023-03-09T14:31:15.082996Z"
    }
   },
   "outputs": [],
   "source": [
    "observed=np.array([50,142,131,70,435,1523,1356,750])\n",
    "expected=np.array( [42.76531299,146.81287862,131.11756787,72.30424052,442.23468701,1518.18712138,1355.88243213,747.69575948])"
   ]
  },
  {
   "cell_type": "markdown",
   "id": "1cc05d93",
   "metadata": {
    "ExecuteTime": {
     "end_time": "2023-03-09T14:28:57.853592Z",
     "start_time": "2023-03-09T14:28:57.837587Z"
    }
   },
   "source": [
    "# Comparing Evidence with hypothesis"
   ]
  },
  {
   "cell_type": "code",
   "execution_count": 34,
   "id": "b1aa5b80",
   "metadata": {
    "ExecuteTime": {
     "end_time": "2023-03-09T14:32:07.974859Z",
     "start_time": "2023-03-09T14:32:07.950868Z"
    }
   },
   "outputs": [
    {
     "name": "stdout",
     "output_type": "stream",
     "text": [
      "Statistics =  1.5959455390914483 \n",
      " P_Value =  0.8095206646905712\n"
     ]
    }
   ],
   "source": [
    "statistics,p_value=st.chisquare(observed,expected,ddof=3)\n",
    "print(\"Statistics = \",statistics,\"\\n\",'P_Value = ', p_value)"
   ]
  },
  {
   "cell_type": "code",
   "execution_count": 35,
   "id": "e9b957e1",
   "metadata": {
    "ExecuteTime": {
     "end_time": "2023-03-09T14:32:19.388969Z",
     "start_time": "2023-03-09T14:32:19.372982Z"
    }
   },
   "outputs": [],
   "source": [
    "# Compare p_value with '\n",
    "#  '(Significane Level)\n",
    "# If p_value is \n",
    "#  '\n",
    "#  ' we failed to reject Null Hypothesis because of lack of evidence\n",
    "# If p_value is = '\n",
    "#  ' we reject Null Hypothesis\n",
    "# interpreting p-value"
   ]
  },
  {
   "cell_type": "code",
   "execution_count": 36,
   "id": "a45ceb4e",
   "metadata": {
    "ExecuteTime": {
     "end_time": "2023-03-09T14:32:35.759776Z",
     "start_time": "2023-03-09T14:32:35.735786Z"
    }
   },
   "outputs": [
    {
     "name": "stdout",
     "output_type": "stream",
     "text": [
      "Significnace=0.050, p=0.810\n",
      "We fail to reject Null hypothesis\n"
     ]
    }
   ],
   "source": [
    "alpha = 0.05\n",
    "print('Significnace=%.3f, p=%.3f' % (alpha, p_value))\n",
    "if p_value <= alpha:\n",
    "    print('We reject Null Hypothesis there is a significance difference between TAT of reports of the laboratories')\n",
    "else:\n",
    "    print('We fail to reject Null hypothesis')"
   ]
  },
  {
   "cell_type": "code",
   "execution_count": null,
   "id": "bfae6237",
   "metadata": {},
   "outputs": [],
   "source": []
  },
  {
   "cell_type": "code",
   "execution_count": null,
   "id": "3baa3d9c",
   "metadata": {},
   "outputs": [],
   "source": []
  }
 ],
 "metadata": {
  "kernelspec": {
   "display_name": "Python 3 (ipykernel)",
   "language": "python",
   "name": "python3"
  },
  "language_info": {
   "codemirror_mode": {
    "name": "ipython",
    "version": 3
   },
   "file_extension": ".py",
   "mimetype": "text/x-python",
   "name": "python",
   "nbconvert_exporter": "python",
   "pygments_lexer": "ipython3",
   "version": "3.9.13"
  }
 },
 "nbformat": 4,
 "nbformat_minor": 5
}
