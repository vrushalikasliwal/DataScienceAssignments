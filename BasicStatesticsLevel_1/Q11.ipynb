{
 "cells": [
  {
   "cell_type": "code",
   "execution_count": 3,
   "id": "ecfa26a9",
   "metadata": {
    "ExecuteTime": {
     "end_time": "2022-12-26T15:14:46.216834Z",
     "start_time": "2022-12-26T15:14:46.202659Z"
    }
   },
   "outputs": [],
   "source": [
    "#from scipy.stats import norm\n",
    "import scipy.stats as st"
   ]
  },
  {
   "cell_type": "code",
   "execution_count": 26,
   "id": "d98b3d74",
   "metadata": {
    "ExecuteTime": {
     "end_time": "2022-12-24T23:36:21.045750Z",
     "start_time": "2022-12-24T23:36:21.021772Z"
    }
   },
   "outputs": [
    {
     "data": {
      "text/plain": [
       "1.8807936081512509"
      ]
     },
     "execution_count": 26,
     "metadata": {},
     "output_type": "execute_result"
    }
   ],
   "source": [
    "norm.interval(0.94,200,(30/(2000**0.5)))\n",
    "#norm.ppf(0.97)"
   ]
  },
  {
   "cell_type": "code",
   "execution_count": 32,
   "id": "cfafb1ed",
   "metadata": {
    "ExecuteTime": {
     "end_time": "2022-12-25T13:54:45.707550Z",
     "start_time": "2022-12-25T13:54:45.677193Z"
    }
   },
   "outputs": [
    {
     "data": {
      "text/plain": [
       "0.003830380567589775"
      ]
     },
     "execution_count": 32,
     "metadata": {},
     "output_type": "execute_result"
    }
   ],
   "source": [
    "1-norm.cdf(200,120,30)"
   ]
  },
  {
   "cell_type": "code",
   "execution_count": 8,
   "id": "925c0630",
   "metadata": {
    "ExecuteTime": {
     "end_time": "2022-12-26T15:21:28.296154Z",
     "start_time": "2022-12-26T15:21:28.280162Z"
    }
   },
   "outputs": [
    {
     "data": {
      "text/plain": [
       "(198.43943840429978, 201.56056159570022)"
      ]
     },
     "execution_count": 8,
     "metadata": {},
     "output_type": "execute_result"
    }
   ],
   "source": [
    "st.norm.interval(0.98,200,(30/(2000**0.5)))\n"
   ]
  },
  {
   "cell_type": "code",
   "execution_count": 4,
   "id": "fea5bc31",
   "metadata": {
    "ExecuteTime": {
     "end_time": "2022-12-21T19:56:40.842599Z",
     "start_time": "2022-12-21T19:56:40.823806Z"
    }
   },
   "outputs": [
    {
     "data": {
      "text/plain": [
       "(198.62230334813333, 201.37769665186667)"
      ]
     },
     "execution_count": 4,
     "metadata": {},
     "output_type": "execute_result"
    }
   ],
   "source": [
    "st.norm.interval(0.96,200,(30/(2000**0.5)))"
   ]
  },
  {
   "cell_type": "code",
   "execution_count": 6,
   "id": "bf0ee0e7",
   "metadata": {
    "ExecuteTime": {
     "end_time": "2022-12-26T15:15:46.972415Z",
     "start_time": "2022-12-26T15:15:46.955259Z"
    }
   },
   "outputs": [
    {
     "data": {
      "text/plain": [
       "(-1.8807936081512509, 1.8807936081512509)"
      ]
     },
     "execution_count": 6,
     "metadata": {},
     "output_type": "execute_result"
    }
   ],
   "source": [
    "import numpy as np\n",
    "norm.interval(0.94)"
   ]
  },
  {
   "cell_type": "code",
   "execution_count": 16,
   "id": "2cea4b82",
   "metadata": {
    "ExecuteTime": {
     "end_time": "2022-12-26T15:29:06.913782Z",
     "start_time": "2022-12-26T15:29:06.900914Z"
    }
   },
   "outputs": [
    {
     "data": {
      "text/plain": [
       "(198.738325292158, 201.261674707842)"
      ]
     },
     "execution_count": 16,
     "metadata": {},
     "output_type": "execute_result"
    }
   ],
   "source": [
    "norm.interval(0.94,200,(30/(2000**0.5)))"
   ]
  },
  {
   "cell_type": "code",
   "execution_count": 17,
   "id": "14242755",
   "metadata": {
    "ExecuteTime": {
     "end_time": "2022-12-26T15:29:28.381447Z",
     "start_time": "2022-12-26T15:29:28.366201Z"
    }
   },
   "outputs": [
    {
     "data": {
      "text/plain": [
       "7.70571138354243e-10"
      ]
     },
     "execution_count": 17,
     "metadata": {},
     "output_type": "execute_result"
    }
   ],
   "source": [
    "norm.cdf(18.8,200,30)"
   ]
  },
  {
   "cell_type": "code",
   "execution_count": 22,
   "id": "18a37ac1",
   "metadata": {
    "ExecuteTime": {
     "end_time": "2022-12-26T15:34:09.709639Z",
     "start_time": "2022-12-26T15:34:09.696646Z"
    }
   },
   "outputs": [
    {
     "data": {
      "text/plain": [
       "197.67365212595917"
      ]
     },
     "execution_count": 22,
     "metadata": {},
     "output_type": "execute_result"
    }
   ],
   "source": [
    "200-norm.ppf(.99)"
   ]
  },
  {
   "cell_type": "code",
   "execution_count": 28,
   "id": "d8edf45f",
   "metadata": {
    "ExecuteTime": {
     "end_time": "2022-12-26T15:55:00.785629Z",
     "start_time": "2022-12-26T15:55:00.764618Z"
    }
   },
   "outputs": [
    {
     "data": {
      "text/plain": [
       "(-1.6448536269514729, 1.6448536269514722)"
      ]
     },
     "execution_count": 28,
     "metadata": {},
     "output_type": "execute_result"
    }
   ],
   "source": [
    "import scipy.stats \n",
    "norm.interval(.9)"
   ]
  },
  {
   "cell_type": "code",
   "execution_count": 29,
   "id": "9b51670d",
   "metadata": {
    "ExecuteTime": {
     "end_time": "2022-12-26T15:55:00.816588Z",
     "start_time": "2022-12-26T15:55:00.790604Z"
    }
   },
   "outputs": [
    {
     "data": {
      "text/plain": [
       "(-1.8807936081512509, 1.8807936081512509)"
      ]
     },
     "execution_count": 29,
     "metadata": {},
     "output_type": "execute_result"
    }
   ],
   "source": [
    "norm.interval(.94)"
   ]
  },
  {
   "cell_type": "code",
   "execution_count": 30,
   "id": "befd70eb",
   "metadata": {
    "ExecuteTime": {
     "end_time": "2022-12-26T15:55:00.832579Z",
     "start_time": "2022-12-26T15:55:00.820586Z"
    }
   },
   "outputs": [
    {
     "data": {
      "text/plain": [
       "(-0.8416212335729142, 0.8416212335729143)"
      ]
     },
     "execution_count": 30,
     "metadata": {},
     "output_type": "execute_result"
    }
   ],
   "source": [
    "norm.interval(.6)"
   ]
  },
  {
   "cell_type": "code",
   "execution_count": 39,
   "id": "5607e52a",
   "metadata": {
    "ExecuteTime": {
     "end_time": "2022-12-26T16:04:33.251579Z",
     "start_time": "2022-12-26T16:04:33.236760Z"
    }
   },
   "outputs": [
    {
     "data": {
      "text/plain": [
       "(-2.0638985616280205, 2.0638985616280205)"
      ]
     },
     "execution_count": 39,
     "metadata": {},
     "output_type": "execute_result"
    }
   ],
   "source": [
    "import scipy.stats as st\n",
    "st.t.interval(0.95,24)"
   ]
  },
  {
   "cell_type": "code",
   "execution_count": 40,
   "id": "f5966e91",
   "metadata": {
    "ExecuteTime": {
     "end_time": "2022-12-26T16:04:34.157377Z",
     "start_time": "2022-12-26T16:04:34.144779Z"
    }
   },
   "outputs": [
    {
     "data": {
      "text/plain": [
       "(-2.1715446760080677, 2.1715446760080677)"
      ]
     },
     "execution_count": 40,
     "metadata": {},
     "output_type": "execute_result"
    }
   ],
   "source": [
    "st.t.interval(0.96,24)"
   ]
  },
  {
   "cell_type": "code",
   "execution_count": 42,
   "id": "622d9f80",
   "metadata": {
    "ExecuteTime": {
     "end_time": "2022-12-26T16:10:30.587513Z",
     "start_time": "2022-12-26T16:10:30.576519Z"
    }
   },
   "outputs": [
    {
     "data": {
      "text/plain": [
       "(-2.796939504772804, 2.796939504772804)"
      ]
     },
     "execution_count": 42,
     "metadata": {},
     "output_type": "execute_result"
    }
   ],
   "source": [
    "st.t.interval(0.99,24)"
   ]
  },
  {
   "cell_type": "code",
   "execution_count": 43,
   "id": "652707cd",
   "metadata": {
    "ExecuteTime": {
     "end_time": "2022-12-26T16:10:53.338080Z",
     "start_time": "2022-12-26T16:10:53.327101Z"
    }
   },
   "outputs": [
    {
     "data": {
      "text/plain": [
       "(70.11659799501373, 449.88340200498624)"
      ]
     },
     "execution_count": 43,
     "metadata": {},
     "output_type": "execute_result"
    }
   ],
   "source": [
    "st.t.interval(0.95,17,260,90)"
   ]
  }
 ],
 "metadata": {
  "kernelspec": {
   "display_name": "Python 3 (ipykernel)",
   "language": "python",
   "name": "python3"
  },
  "language_info": {
   "codemirror_mode": {
    "name": "ipython",
    "version": 3
   },
   "file_extension": ".py",
   "mimetype": "text/x-python",
   "name": "python",
   "nbconvert_exporter": "python",
   "pygments_lexer": "ipython3",
   "version": "3.9.13"
  }
 },
 "nbformat": 4,
 "nbformat_minor": 5
}
