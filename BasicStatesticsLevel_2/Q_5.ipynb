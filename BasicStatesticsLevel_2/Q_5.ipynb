{
 "cells": [
  {
   "cell_type": "markdown",
   "id": "b241e658",
   "metadata": {},
   "source": [
    "# Data Science Assignments- BassicStatesticsLEvel2_Q5"
   ]
  },
  {
   "cell_type": "code",
   "execution_count": 1,
   "id": "951ddbec",
   "metadata": {
    "ExecuteTime": {
     "end_time": "2023-01-11T21:37:36.815778Z",
     "start_time": "2023-01-11T21:37:35.683941Z"
    }
   },
   "outputs": [],
   "source": [
    "import scipy.stats as st\n",
    "import numpy as np"
   ]
  },
  {
   "cell_type": "code",
   "execution_count": 3,
   "id": "73feb992",
   "metadata": {
    "ExecuteTime": {
     "end_time": "2023-01-11T20:37:29.706700Z",
     "start_time": "2023-01-11T20:37:29.676368Z"
    }
   },
   "outputs": [
    {
     "name": "stdout",
     "output_type": "stream",
     "text": [
      "Mue 3= 540\n",
      "SD 3= 225.0\n"
     ]
    }
   ],
   "source": [
    "#2 Company\n",
    "mue1=5 #$5\n",
    "sd1=9 #$9\n",
    "\n",
    "mue2=7 #$7\n",
    "sd2=16 #$16\n",
    "\n",
    "mue3=mue1+mue2\n",
    "sd3=np.sqrt(sd1+sd2)\n",
    "\n",
    "#$1=45\n",
    "mue3=mue3*45\n",
    "sd3=sd3*45\n",
    "\n",
    "print('Mue 3=',mue3)\n",
    "print('SD 3=',sd3)"
   ]
  },
  {
   "cell_type": "markdown",
   "id": "b2ea2fe1",
   "metadata": {
    "ExecuteTime": {
     "end_time": "2023-01-09T22:39:17.903315Z",
     "start_time": "2023-01-09T22:39:17.887316Z"
    }
   },
   "source": [
    "### Q_5_A"
   ]
  },
  {
   "cell_type": "code",
   "execution_count": 4,
   "id": "bcb48143",
   "metadata": {
    "ExecuteTime": {
     "end_time": "2023-01-11T20:37:29.775144Z",
     "start_time": "2023-01-11T20:37:29.736176Z"
    }
   },
   "outputs": [
    {
     "data": {
      "text/plain": [
       "(99.00810347848784, 980.9918965215122)"
      ]
     },
     "execution_count": 4,
     "metadata": {},
     "output_type": "execute_result"
    }
   ],
   "source": [
    "st.norm.interval(0.95,mue3,sd3)"
   ]
  },
  {
   "cell_type": "code",
   "execution_count": 5,
   "id": "4cf80b86",
   "metadata": {
    "ExecuteTime": {
     "end_time": "2023-01-11T20:37:30.106649Z",
     "start_time": "2023-01-11T20:37:30.075686Z"
    }
   },
   "outputs": [
    {
     "data": {
      "text/plain": [
       "0.6914624612740131"
      ]
     },
     "execution_count": 5,
     "metadata": {},
     "output_type": "execute_result"
    }
   ],
   "source": [
    "st.norm.cdf(0.5)"
   ]
  },
  {
   "cell_type": "code",
   "execution_count": null,
   "id": "a57690a7",
   "metadata": {},
   "outputs": [],
   "source": []
  },
  {
   "cell_type": "code",
   "execution_count": 18,
   "id": "8a0e981e",
   "metadata": {
    "ExecuteTime": {
     "end_time": "2023-01-11T20:58:27.900558Z",
     "start_time": "2023-01-11T20:58:27.884555Z"
    }
   },
   "outputs": [
    {
     "data": {
      "text/plain": [
       "(1998.138034214687, 2001.861965785313)"
      ]
     },
     "execution_count": 18,
     "metadata": {},
     "output_type": "execute_result"
    }
   ],
   "source": [
    "st.norm.interval(0.95,2000,0.95)"
   ]
  },
  {
   "cell_type": "code",
   "execution_count": 7,
   "id": "1d7629c4",
   "metadata": {
    "ExecuteTime": {
     "end_time": "2023-01-11T21:38:38.169379Z",
     "start_time": "2023-01-11T21:38:38.153444Z"
    }
   },
   "outputs": [
    {
     "data": {
      "text/plain": [
       "1.959963984540054"
      ]
     },
     "execution_count": 7,
     "metadata": {},
     "output_type": "execute_result"
    }
   ],
   "source": [
    "st.norm.ppf(0.975)"
   ]
  }
 ],
 "metadata": {
  "kernelspec": {
   "display_name": "Python 3 (ipykernel)",
   "language": "python",
   "name": "python3"
  },
  "language_info": {
   "codemirror_mode": {
    "name": "ipython",
    "version": 3
   },
   "file_extension": ".py",
   "mimetype": "text/x-python",
   "name": "python",
   "nbconvert_exporter": "python",
   "pygments_lexer": "ipython3",
   "version": "3.9.13"
  }
 },
 "nbformat": 4,
 "nbformat_minor": 5
}
