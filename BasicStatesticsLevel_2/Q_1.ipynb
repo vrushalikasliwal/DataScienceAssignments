{
 "cells": [
  {
   "cell_type": "markdown",
   "id": "596bf4e4",
   "metadata": {},
   "source": [
    "# Data Science Assignments- BassicStatesticsLEvel2_Q1"
   ]
  },
  {
   "cell_type": "code",
   "execution_count": 6,
   "id": "aebbffbd",
   "metadata": {
    "ExecuteTime": {
     "end_time": "2023-01-09T04:18:20.077350Z",
     "start_time": "2023-01-09T04:18:20.061349Z"
    }
   },
   "outputs": [
    {
     "data": {
      "text/plain": [
       "0.26598552904870054"
      ]
     },
     "execution_count": 6,
     "metadata": {},
     "output_type": "execute_result"
    }
   ],
   "source": [
    "import scipy.stats as st\n",
    "st.norm.cdf(55,60,8)"
   ]
  }
 ],
 "metadata": {
  "kernelspec": {
   "display_name": "Python 3 (ipykernel)",
   "language": "python",
   "name": "python3"
  },
  "language_info": {
   "codemirror_mode": {
    "name": "ipython",
    "version": 3
   },
   "file_extension": ".py",
   "mimetype": "text/x-python",
   "name": "python",
   "nbconvert_exporter": "python",
   "pygments_lexer": "ipython3",
   "version": "3.9.13"
  }
 },
 "nbformat": 4,
 "nbformat_minor": 5
}
