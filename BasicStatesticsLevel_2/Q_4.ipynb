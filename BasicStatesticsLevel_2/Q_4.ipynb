{
 "cells": [
  {
   "cell_type": "markdown",
   "id": "599f6f8a",
   "metadata": {},
   "source": [
    "# Data Science Assignments- BassicStatesticsLEvel2_Q4"
   ]
  },
  {
   "cell_type": "code",
   "execution_count": 2,
   "id": "42594930",
   "metadata": {
    "ExecuteTime": {
     "end_time": "2023-01-09T21:46:35.358496Z",
     "start_time": "2023-01-09T21:46:35.350496Z"
    }
   },
   "outputs": [],
   "source": [
    "import scipy.stats as st"
   ]
  },
  {
   "cell_type": "code",
   "execution_count": 15,
   "id": "89c26fa0",
   "metadata": {
    "ExecuteTime": {
     "end_time": "2023-01-09T22:03:47.037933Z",
     "start_time": "2023-01-09T22:03:47.021935Z"
    }
   },
   "outputs": [
    {
     "data": {
      "text/plain": [
       "(48.48341392902199, 151.516586070978)"
      ]
     },
     "execution_count": 15,
     "metadata": {},
     "output_type": "execute_result"
    }
   ],
   "source": [
    "st.norm.interval(0.99,100,20)"
   ]
  }
 ],
 "metadata": {
  "kernelspec": {
   "display_name": "Python 3 (ipykernel)",
   "language": "python",
   "name": "python3"
  },
  "language_info": {
   "codemirror_mode": {
    "name": "ipython",
    "version": 3
   },
   "file_extension": ".py",
   "mimetype": "text/x-python",
   "name": "python",
   "nbconvert_exporter": "python",
   "pygments_lexer": "ipython3",
   "version": "3.9.13"
  }
 },
 "nbformat": 4,
 "nbformat_minor": 5
}
