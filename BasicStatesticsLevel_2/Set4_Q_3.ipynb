{
 "cells": [
  {
   "cell_type": "markdown",
   "id": "491d6beb",
   "metadata": {
    "ExecuteTime": {
     "end_time": "2023-01-21T22:25:04.619012Z",
     "start_time": "2023-01-21T22:25:04.603014Z"
    }
   },
   "source": [
    "#### (BasicStatesticsLevel_2-Set_4- Q_3).\t\n",
    "Auditors at a small community bank randomly sample 100 withdrawal transactions made during the week at an ATM machine located near the bank’s main branch. Over the past 2 years, the average withdrawal amount has been $50 with a standard deviation of $40. Since audit investigations are typically expensive, the auditors decide to not initiate further investigations if the mean transaction amount of the sample is between $45 and $55. What is the probability that in any given week, there will be an investigation?\n",
    "\n",
    "A.\t1.25%\n",
    "B.\t2.5%\n",
    "C.\t10.55%\n",
    "D.\t21.1%\n",
    "E.\t50%"
   ]
  },
  {
   "cell_type": "code",
   "execution_count": 3,
   "id": "0841ff5f",
   "metadata": {
    "ExecuteTime": {
     "end_time": "2023-01-21T22:33:45.112564Z",
     "start_time": "2023-01-21T22:33:45.104546Z"
    }
   },
   "outputs": [],
   "source": [
    "#Here n=100, pop mean=50, sd=40 (Sample size >30 so its a ztest, normal distribution)\n",
    "#Here Ho=45<mue<55\n",
    "#Ha=1-45<mue<55"
   ]
  },
  {
   "cell_type": "code",
   "execution_count": 8,
   "id": "4284c868",
   "metadata": {
    "ExecuteTime": {
     "end_time": "2023-01-22T11:46:32.930157Z",
     "start_time": "2023-01-22T11:46:32.911177Z"
    }
   },
   "outputs": [],
   "source": [
    "import scipy.stats as st\n",
    "import statsmodels.stats.weightstats as ztest"
   ]
  },
  {
   "cell_type": "code",
   "execution_count": 8,
   "id": "ead8d815",
   "metadata": {
    "ExecuteTime": {
     "end_time": "2023-01-21T22:52:43.343515Z",
     "start_time": "2023-01-21T22:52:43.327516Z"
    }
   },
   "outputs": [
    {
     "data": {
      "text/plain": [
       "-1.25"
      ]
     },
     "execution_count": 8,
     "metadata": {},
     "output_type": "execute_result"
    }
   ],
   "source": [
    "#Find zScore for 45<mue (x=45,z=(s_mean-p_mean)/(p_sd/sqrt(n)))\n",
    "zScore1=(45-50)/(40/100**0.5)\n",
    "zScore1"
   ]
  },
  {
   "cell_type": "code",
   "execution_count": 10,
   "id": "18cb9683",
   "metadata": {
    "ExecuteTime": {
     "end_time": "2023-01-21T22:56:14.462076Z",
     "start_time": "2023-01-21T22:56:14.446079Z"
    }
   },
   "outputs": [
    {
     "data": {
      "text/plain": [
       "1.25"
      ]
     },
     "execution_count": 10,
     "metadata": {},
     "output_type": "execute_result"
    }
   ],
   "source": [
    "#find zScore for mue<55 (x=55,z=((sMean-pMean)/(p_sd/sqrt(n))))\n",
    "zScore2=(55-50)/(40/100**0.5)\n",
    "zScore2"
   ]
  },
  {
   "cell_type": "code",
   "execution_count": 18,
   "id": "5ce9fa8f",
   "metadata": {
    "ExecuteTime": {
     "end_time": "2023-01-22T12:11:23.438540Z",
     "start_time": "2023-01-22T12:11:23.423532Z"
    }
   },
   "outputs": [
    {
     "data": {
      "text/plain": [
       "0.7887004526662893"
      ]
     },
     "execution_count": 18,
     "metadata": {},
     "output_type": "execute_result"
    }
   ],
   "source": [
    "st.norm.cdf(1.25)-st.norm.cdf(-1.25)\n"
   ]
  },
  {
   "cell_type": "code",
   "execution_count": 17,
   "id": "19623d0b",
   "metadata": {
    "ExecuteTime": {
     "end_time": "2023-01-22T12:11:19.439419Z",
     "start_time": "2023-01-22T12:11:19.423476Z"
    }
   },
   "outputs": [
    {
     "data": {
      "text/plain": [
       "(45.00000495667348, 54.99999504332652)"
      ]
     },
     "execution_count": 17,
     "metadata": {},
     "output_type": "execute_result"
    }
   ],
   "source": [
    "st.norm.interval(0.7887,50,40/(100**0.5))\n"
   ]
  },
  {
   "cell_type": "code",
   "execution_count": 12,
   "id": "3070d819",
   "metadata": {
    "ExecuteTime": {
     "end_time": "2023-01-22T11:50:48.933797Z",
     "start_time": "2023-01-22T11:50:48.915787Z"
    }
   },
   "outputs": [
    {
     "data": {
      "text/plain": [
       "0.21130000000000004"
      ]
     },
     "execution_count": 12,
     "metadata": {},
     "output_type": "execute_result"
    }
   ],
   "source": [
    "#for Ha\n",
    "1-0.7887"
   ]
  },
  {
   "cell_type": "markdown",
   "id": "6c0ba2ca",
   "metadata": {},
   "source": [
    "# Ans:- D. 21.1%"
   ]
  },
  {
   "cell_type": "code",
   "execution_count": 20,
   "id": "73272bfa",
   "metadata": {
    "ExecuteTime": {
     "end_time": "2023-01-22T19:24:34.512761Z",
     "start_time": "2023-01-22T19:24:34.496757Z"
    }
   },
   "outputs": [],
   "source": [
    "x=list(range(1,100,2))"
   ]
  },
  {
   "cell_type": "code",
   "execution_count": 21,
   "id": "8d2b5c46",
   "metadata": {
    "ExecuteTime": {
     "end_time": "2023-01-22T19:24:38.520462Z",
     "start_time": "2023-01-22T19:24:38.488170Z"
    }
   },
   "outputs": [
    {
     "data": {
      "text/plain": [
       "[1,\n",
       " 3,\n",
       " 5,\n",
       " 7,\n",
       " 9,\n",
       " 11,\n",
       " 13,\n",
       " 15,\n",
       " 17,\n",
       " 19,\n",
       " 21,\n",
       " 23,\n",
       " 25,\n",
       " 27,\n",
       " 29,\n",
       " 31,\n",
       " 33,\n",
       " 35,\n",
       " 37,\n",
       " 39,\n",
       " 41,\n",
       " 43,\n",
       " 45,\n",
       " 47,\n",
       " 49,\n",
       " 51,\n",
       " 53,\n",
       " 55,\n",
       " 57,\n",
       " 59,\n",
       " 61,\n",
       " 63,\n",
       " 65,\n",
       " 67,\n",
       " 69,\n",
       " 71,\n",
       " 73,\n",
       " 75,\n",
       " 77,\n",
       " 79,\n",
       " 81,\n",
       " 83,\n",
       " 85,\n",
       " 87,\n",
       " 89,\n",
       " 91,\n",
       " 93,\n",
       " 95,\n",
       " 97,\n",
       " 99]"
      ]
     },
     "execution_count": 21,
     "metadata": {},
     "output_type": "execute_result"
    }
   ],
   "source": [
    "x"
   ]
  }
 ],
 "metadata": {
  "kernelspec": {
   "display_name": "Python 3 (ipykernel)",
   "language": "python",
   "name": "python3"
  },
  "language_info": {
   "codemirror_mode": {
    "name": "ipython",
    "version": 3
   },
   "file_extension": ".py",
   "mimetype": "text/x-python",
   "name": "python",
   "nbconvert_exporter": "python",
   "pygments_lexer": "ipython3",
   "version": "3.9.13"
  }
 },
 "nbformat": 4,
 "nbformat_minor": 5
}
