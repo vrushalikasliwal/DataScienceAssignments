{
 "cells": [
  {
   "cell_type": "markdown",
   "id": "da8812e8",
   "metadata": {},
   "source": [
    "# Basic_Statestics_LEvel2_\n",
    "\n",
    "#Set+2_Normal+Distribution+Functions+of+random+variables+(1)\n",
    "\n",
    "#Q 5.\tConsider a company that has two different divisions. \n",
    "#The annual profits from the two divisions are independent and have distributions \n",
    "#Profit1 ~ N(5, 32) and Profit2 ~ N(7, 42) respectively. \n",
    "#Both the profits are in $ Million. \n",
    "\n",
    "#Answer the following questions about the total profit of the company in Rupees. Assume that $1 = Rs. 45\n",
    "#A.\tSpecify a Rupee range (centered on the mean) such that it contains 95% probability for the annual profit of the company.\n",
    "#B.\tSpecify the 5th percentile of profit (in Rupees) for the company\n",
    "#C.\tWhich of the two divisions has a larger probability of making a loss in a given year?\n"
   ]
  },
  {
   "cell_type": "code",
   "execution_count": 1,
   "id": "8e3f1cfc",
   "metadata": {
    "ExecuteTime": {
     "end_time": "2023-03-07T11:24:57.703647Z",
     "start_time": "2023-03-07T11:24:57.629592Z"
    }
   },
   "outputs": [],
   "source": [
    "import numpy as np\n",
    "from scipy import stats\n",
    "from scipy.stats import norm"
   ]
  },
  {
   "cell_type": "code",
   "execution_count": 2,
   "id": "70d00655",
   "metadata": {
    "ExecuteTime": {
     "end_time": "2023-03-07T11:26:52.093159Z",
     "start_time": "2023-03-07T11:26:52.059187Z"
    }
   },
   "outputs": [
    {
     "name": "stdout",
     "output_type": "stream",
     "text": [
      "Mean Profit is Rs 540 Million\n"
     ]
    }
   ],
   "source": [
    "# Mean profits from two different divisions of a company = Mean1 + Mean2\n",
    "Mean = 5+7\n",
    "print('Mean Profit is Rs', Mean*45,'Million')"
   ]
  },
  {
   "cell_type": "code",
   "execution_count": 3,
   "id": "3e803ff4",
   "metadata": {
    "ExecuteTime": {
     "end_time": "2023-03-07T11:27:02.433987Z",
     "start_time": "2023-03-07T11:27:02.413990Z"
    }
   },
   "outputs": [
    {
     "name": "stdout",
     "output_type": "stream",
     "text": [
      "Standard Deviation is Rs 225.0 Million\n"
     ]
    }
   ],
   "source": [
    "# Variance of profits from two different divisions of a company = SD^2 = SD1^2 + SD2^2\n",
    "SD = np.sqrt((9)+(16))\n",
    "print('Standard Deviation is Rs', SD*45, 'Million')"
   ]
  },
  {
   "cell_type": "code",
   "execution_count": 5,
   "id": "dfaa3d30",
   "metadata": {
    "ExecuteTime": {
     "end_time": "2023-03-07T11:27:14.456823Z",
     "start_time": "2023-03-07T11:27:14.439846Z"
    }
   },
   "outputs": [
    {
     "name": "stdout",
     "output_type": "stream",
     "text": [
      "Range is Rs (99.00810347848784, 980.9918965215122) in Millions\n"
     ]
    }
   ],
   "source": [
    "# A. Specify a Rupee range (centered on the mean) such that it contains 95% probability for the annual profit of the company.\n",
    "print('Range is Rs',(stats.norm.interval(0.95,540,225)),'in Millions')"
   ]
  },
  {
   "cell_type": "code",
   "execution_count": 6,
   "id": "4b260637",
   "metadata": {
    "ExecuteTime": {
     "end_time": "2023-03-07T11:27:29.660206Z",
     "start_time": "2023-03-07T11:27:29.637205Z"
    }
   },
   "outputs": [
    {
     "name": "stdout",
     "output_type": "stream",
     "text": [
      "5th percentile of profit (in Million Rupees) is 170.0\n"
     ]
    }
   ],
   "source": [
    "# B. Specify the 5th percentile of profit (in Rupees) for the company\n",
    "# To compute 5th Percentile, we use the formula X=μ + Zσ; wherein from z table, 5 percentile = -1.645\n",
    "X= 540+(-1.645)*(225)\n",
    "print('5th percentile of profit (in Million Rupees) is',np.round(X,))"
   ]
  },
  {
   "cell_type": "code",
   "execution_count": 7,
   "id": "99076bb6",
   "metadata": {
    "ExecuteTime": {
     "end_time": "2023-03-07T11:28:10.727184Z",
     "start_time": "2023-03-07T11:28:10.705200Z"
    }
   },
   "outputs": [],
   "source": [
    "# C. Which of the two divisions has a larger probability of making a loss in a given year?\n",
    "# Probability of Division 1 making a loss P(X<0)\n"
   ]
  },
  {
   "cell_type": "code",
   "execution_count": 10,
   "id": "cfee8185",
   "metadata": {
    "ExecuteTime": {
     "end_time": "2023-03-07T11:28:17.767143Z",
     "start_time": "2023-03-07T11:28:17.745137Z"
    }
   },
   "outputs": [
    {
     "data": {
      "text/plain": [
       "0.0477903522728147"
      ]
     },
     "execution_count": 10,
     "metadata": {},
     "output_type": "execute_result"
    }
   ],
   "source": [
    "stats.norm.cdf(0,5,3)\n",
    "\n"
   ]
  },
  {
   "cell_type": "code",
   "execution_count": 9,
   "id": "44a741d0",
   "metadata": {
    "ExecuteTime": {
     "end_time": "2023-03-07T11:28:12.582247Z",
     "start_time": "2023-03-07T11:28:12.553268Z"
    }
   },
   "outputs": [
    {
     "data": {
      "text/plain": [
       "0.040059156863817086"
      ]
     },
     "execution_count": 9,
     "metadata": {},
     "output_type": "execute_result"
    }
   ],
   "source": [
    "# Probability of Division 2 making a loss P(X<0)\n",
    "stats.norm.cdf(0,7,4)"
   ]
  }
 ],
 "metadata": {
  "kernelspec": {
   "display_name": "Python 3 (ipykernel)",
   "language": "python",
   "name": "python3"
  },
  "language_info": {
   "codemirror_mode": {
    "name": "ipython",
    "version": 3
   },
   "file_extension": ".py",
   "mimetype": "text/x-python",
   "name": "python",
   "nbconvert_exporter": "python",
   "pygments_lexer": "ipython3",
   "version": "3.9.13"
  }
 },
 "nbformat": 4,
 "nbformat_minor": 5
}
