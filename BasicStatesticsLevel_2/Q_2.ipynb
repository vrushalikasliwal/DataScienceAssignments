{
 "cells": [
  {
   "cell_type": "markdown",
   "id": "17b1d1a8",
   "metadata": {},
   "source": [
    "# Data Science Assignments- BassicStatesticsLEvel2_Q2"
   ]
  },
  {
   "cell_type": "code",
   "execution_count": 13,
   "id": "f11d9933",
   "metadata": {
    "ExecuteTime": {
     "end_time": "2023-01-09T20:54:39.385141Z",
     "start_time": "2023-01-09T20:54:39.369161Z"
    }
   },
   "outputs": [
    {
     "data": {
      "text/plain": [
       "0.15865525393145707"
      ]
     },
     "execution_count": 13,
     "metadata": {},
     "output_type": "execute_result"
    }
   ],
   "source": [
    "1-st.norm.cdf(44,38,6)\n",
    "#st.norm.sf(44,38,6)"
   ]
  },
  {
   "cell_type": "code",
   "execution_count": 5,
   "id": "cefef1d2",
   "metadata": {
    "ExecuteTime": {
     "end_time": "2023-01-09T20:14:56.805660Z",
     "start_time": "2023-01-09T20:14:56.786902Z"
    }
   },
   "outputs": [],
   "source": [
    "import scipy.stats as st"
   ]
  },
  {
   "cell_type": "code",
   "execution_count": 14,
   "id": "aba7e322",
   "metadata": {
    "ExecuteTime": {
     "end_time": "2023-01-09T21:07:20.671489Z",
     "start_time": "2023-01-09T21:07:20.639473Z"
    }
   },
   "outputs": [
    {
     "data": {
      "text/plain": [
       "0.3413447460685429"
      ]
     },
     "execution_count": 14,
     "metadata": {},
     "output_type": "execute_result"
    }
   ],
   "source": [
    "st.norm.cdf(44,38,6)-st.norm.cdf(38,38,6)"
   ]
  },
  {
   "cell_type": "markdown",
   "id": "f61f15fc",
   "metadata": {},
   "source": [
    "##### BasicStatesticsLevel_2-Q_2-B"
   ]
  },
  {
   "cell_type": "code",
   "execution_count": 18,
   "id": "3007c493",
   "metadata": {
    "ExecuteTime": {
     "end_time": "2023-01-09T21:12:03.794763Z",
     "start_time": "2023-01-09T21:12:03.776332Z"
    }
   },
   "outputs": [
    {
     "data": {
      "text/plain": [
       "0.09121121972586788"
      ]
     },
     "execution_count": 18,
     "metadata": {},
     "output_type": "execute_result"
    }
   ],
   "source": [
    "st.norm.cdf(30,38,6)"
   ]
  },
  {
   "cell_type": "code",
   "execution_count": 20,
   "id": "87fdd780",
   "metadata": {
    "ExecuteTime": {
     "end_time": "2023-01-09T21:45:10.733755Z",
     "start_time": "2023-01-09T21:45:10.686752Z"
    }
   },
   "outputs": [
    {
     "data": {
      "text/plain": [
       "36.484487890347154"
      ]
     },
     "execution_count": 20,
     "metadata": {},
     "output_type": "execute_result"
    }
   ],
   "source": [
    "400*st.norm.cdf(30,38,6)"
   ]
  },
  {
   "cell_type": "code",
   "execution_count": null,
   "id": "29f38ac2",
   "metadata": {},
   "outputs": [],
   "source": []
  },
  {
   "cell_type": "code",
   "execution_count": null,
   "id": "9c69b415",
   "metadata": {},
   "outputs": [],
   "source": []
  }
 ],
 "metadata": {
  "kernelspec": {
   "display_name": "Python 3 (ipykernel)",
   "language": "python",
   "name": "python3"
  },
  "language_info": {
   "codemirror_mode": {
    "name": "ipython",
    "version": 3
   },
   "file_extension": ".py",
   "mimetype": "text/x-python",
   "name": "python",
   "nbconvert_exporter": "python",
   "pygments_lexer": "ipython3",
   "version": "3.9.13"
  }
 },
 "nbformat": 4,
 "nbformat_minor": 5
}
